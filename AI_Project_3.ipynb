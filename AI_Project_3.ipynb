{
  "nbformat": 4,
  "nbformat_minor": 0,
  "metadata": {
    "colab": {
      "provenance": [],
      "include_colab_link": true
    },
    "kernelspec": {
      "name": "python3",
      "display_name": "Python 3"
    },
    "language_info": {
      "name": "python"
    }
  },
  "cells": [
    {
      "cell_type": "markdown",
      "metadata": {
        "id": "view-in-github",
        "colab_type": "text"
      },
      "source": [
        "<a href=\"https://colab.research.google.com/github/chito365/2023/blob/main/AI_Project_3.ipynb\" target=\"_parent\"><img src=\"https://colab.research.google.com/assets/colab-badge.svg\" alt=\"Open In Colab\"/></a>"
      ]
    },
    {
      "cell_type": "code",
      "source": [
        "import tensorflow as tf\n",
        "import numpy as np\n",
        "import matplotlib.pyplot as plt"
      ],
      "metadata": {
        "id": "kxldJwrSh0ih"
      },
      "execution_count": null,
      "outputs": []
    },
    {
      "cell_type": "markdown",
      "source": [],
      "metadata": {
        "id": "otlnzP9SDn9f"
      }
    },
    {
      "cell_type": "markdown",
      "source": [],
      "metadata": {
        "id": "15kcpvP0qfak"
      }
    },
    {
      "cell_type": "code",
      "execution_count": null,
      "metadata": {
        "id": "vuFH3SCrXJT8",
        "colab": {
          "base_uri": "https://localhost:8080/"
        },
        "outputId": "2bfc4b57-314b-43e8-a54c-c0de9014e506"
      },
      "outputs": [
        {
          "output_type": "stream",
          "name": "stdout",
          "text": [
            "Downloading data from https://storage.googleapis.com/tensorflow/tf-keras-datasets/mnist.npz\n",
            "11490434/11490434 [==============================] - 0s 0us/step\n"
          ]
        }
      ],
      "source": [
        "# Load the MNIST dataset 1 1\n",
        "mnist = tf.keras.datasets.mnist\n",
        "\n",
        "# train_images = X_train\n",
        "# train_labels = y_train\n",
        "# test_images = X_test\n",
        "# test_labels = y_test\n",
        "\n",
        "# Split the dataset into training and testing sets\n",
        "(X_train, y_train), (X_test, y_test) = mnist.load_data()\n",
        "\n",
        "# Normalize the pixel values to the range [0, 1]\n",
        "X_train, X_test = X_train / 255.0, X_test / 255.0"
      ]
    },
    {
      "cell_type": "code",
      "source": [
        "print(X_train.shape)\n",
        "print(y_train.shape)\n",
        "print(X_test.shape)\n",
        "print(y_test.shape)\n",
        "print(type(X_train))\n",
        "# a single image array (28x28):\n",
        "print(X_train[0].shape)\n",
        "#print(X_train[0])"
      ],
      "metadata": {
        "colab": {
          "base_uri": "https://localhost:8080/"
        },
        "id": "pR2GB5WQXbD0",
        "outputId": "6e57731b-7440-43be-ab01-934262e3c972"
      },
      "execution_count": null,
      "outputs": [
        {
          "output_type": "stream",
          "name": "stdout",
          "text": [
            "(60000, 28, 28)\n",
            "(60000,)\n",
            "(10000, 28, 28)\n",
            "(10000,)\n",
            "<class 'numpy.ndarray'>\n",
            "(28, 28)\n"
          ]
        }
      ]
    },
    {
      "cell_type": "code",
      "source": [
        "from cv2 import resize\n",
        "\n",
        "# Loop through the images, resize them to 16x16\n",
        "\n",
        "X_train_res16 = []\n",
        "for image in X_train:\n",
        "    resized_image = resize(image, (16, 16))\n",
        "    X_train_res16.append(resized_image)\n",
        "X_train_res16 = np.array(X_train_res16)\n",
        "\n",
        "X_test_res16 = []\n",
        "for image in X_test:\n",
        "    resized_image = resize(image, (16, 16))\n",
        "    X_test_res16.append(resized_image)\n",
        "X_test_res16 = np.array(X_test_res16)\n",
        "\n",
        "print(X_train_res16.shape)\n",
        "print(X_test_res16.shape)"
      ],
      "metadata": {
        "id": "8EP-T4QFihFF",
        "colab": {
          "base_uri": "https://localhost:8080/"
        },
        "outputId": "1b7a03ef-d787-4f41-a914-1f87f804457c"
      },
      "execution_count": null,
      "outputs": [
        {
          "output_type": "stream",
          "name": "stdout",
          "text": [
            "(60000, 16, 16)\n",
            "(10000, 16, 16)\n"
          ]
        }
      ]
    },
    {
      "cell_type": "code",
      "source": [
        "image_index = 0  # Change this to the index of the image you want to display\n",
        "# Extract and display the selected image\n",
        "image = X_train[image_index]\n",
        "plt.imshow(image, cmap='gray')  # Display the image in grayscale\n",
        "plt.title(f\"MNIST Image (Label: {y_train[image_index]})\")\n",
        "#plt.axis('off')  # Hide axis labels\n",
        "plt.show()\n",
        "\n",
        "image = X_train_res16[image_index]\n",
        "plt.imshow(image, cmap='gray')  # Display the image in grayscale\n",
        "plt.title(f\"MNIST Image (Label: {y_train[image_index]})\")\n",
        "#plt.axis('off')  # Hide axis labels\n",
        "plt.show()"
      ],
      "metadata": {
        "id": "4P24Lhzxhb2S",
        "colab": {
          "base_uri": "https://localhost:8080/",
          "height": 887
        },
        "outputId": "79051ee3-1499-411b-b09f-579356cae317"
      },
      "execution_count": null,
      "outputs": [
        {
          "output_type": "display_data",
          "data": {
            "text/plain": [
              "<Figure size 640x480 with 1 Axes>"
            ],
            "image/png": "[encoded data removed]"
          },
          "metadata": {}
        },
        {
          "output_type": "display_data",
          "data": {
            "text/plain": [
              "<Figure size 640x480 with 1 Axes>"
            ],
            "image/png": "[encoded data removed]"
          },
          "metadata": {}
        }
      ]
    },
    {
      "cell_type": "code",
      "source": [
        "# Flatten the original images\n",
        "X_train_flat = X_train.reshape(X_train.shape[0], -1)\n",
        "X_test_flat = X_test.reshape(X_test.shape[0], -1)\n",
        "print(X_train_flat.shape)\n",
        "print(X_test_flat.shape)\n",
        "#print(X_train_flat[0])"
      ],
      "metadata": {
        "id": "bU4y09R2nY22",
        "colab": {
          "base_uri": "https://localhost:8080/"
        },
        "outputId": "d14d2d59-a670-4259-d589-62e57ef7b164"
      },
      "execution_count": null,
      "outputs": [
        {
          "output_type": "stream",
          "name": "stdout",
          "text": [
            "(60000, 784)\n",
            "(10000, 784)\n"
          ]
        }
      ]
    },
    {
      "cell_type": "code",
      "source": [
        "# Flatten the resized images\n",
        "X_train_res16_flat = X_train_res16.reshape(X_train_res16.shape[0], -1)\n",
        "X_test_res16_flat = X_test_res16.reshape(X_test_res16.shape[0], -1)\n",
        "print(X_train_res16_flat.shape)\n",
        "print(X_test_res16_flat.shape)"
      ],
      "metadata": {
        "colab": {
          "base_uri": "https://localhost:8080/"
        },
        "id": "Bm4UDmwFzJrp",
        "outputId": "8f39400c-64c2-4e10-ec0d-416a33984cfa"
      },
      "execution_count": null,
      "outputs": [
        {
          "output_type": "stream",
          "name": "stdout",
          "text": [
            "(60000, 256)\n",
            "(10000, 256)\n"
          ]
        }
      ]
    },
    {
      "cell_type": "code",
      "source": [
        "from tensorflow.keras.models import Sequential\n",
        "from tensorflow.keras.layers import Flatten, Dense\n",
        "from tensorflow.keras.utils import to_categorical"
      ],
      "metadata": {
        "id": "dw6ZMQYbp2jn"
      },
      "execution_count": null,
      "outputs": []
    },
    {
      "cell_type": "code",
      "source": [
        "# Convert labels to one-hot encoding - needed for NN\n",
        "print(y_train[0])\n",
        "y_train_ohe = to_categorical(y_train, 10)\n",
        "y_test_ohe = to_categorical(y_test, 10)\n",
        "print(y_train_ohe[0])"
      ],
      "metadata": {
        "colab": {
          "base_uri": "https://localhost:8080/"
        },
        "id": "iAMMcbPQ0u1E",
        "outputId": "8904a93d-7c2f-42a5-84f3-873faf29a807"
      },
      "execution_count": null,
      "outputs": [
        {
          "output_type": "stream",
          "name": "stdout",
          "text": [
            "5\n",
            "[0. 0. 0. 0. 0. 1. 0. 0. 0. 0.]\n"
          ]
        }
      ]
    },
    {
      "cell_type": "code",
      "source": [
        "\n",
        "# Create a simple feedforward Neural Network model\n",
        "model = Sequential([\n",
        "    Flatten(input_shape=(28, 28)),\n",
        "#    Dense(128, activation='relu'),\n",
        "    Dense(64, activation='relu'),\n",
        "    Dense(10, activation='softmax')\n",
        "])\n",
        "\n",
        "# Compile the model\n",
        "model.compile(optimizer='adam',\n",
        "              loss='categorical_crossentropy',\n",
        "              metrics=['accuracy'])\n",
        "\n",
        "# Train the model\n",
        "#model.fit(X_train, y_train, epochs=5, batch_size=32, validation_split=0.2)\n",
        "model.fit(X_train, y_train_ohe, epochs=5)\n",
        "\n",
        "# Evaluate the model on the test dataset\n",
        "test_loss, test_accuracy = model.evaluate(X_test, y_test_ohe)\n",
        "print(f\"Test accuracy: {test_accuracy}\")"
      ],
      "metadata": {
        "colab": {
          "base_uri": "https://localhost:8080/"
        },
        "id": "n9l3TTjdaHJG",
        "outputId": "1e6078a4-cb39-4dbb-cdb5-234655a75adf"
      },
      "execution_count": null,
      "outputs": [
        {
          "output_type": "stream",
          "name": "stdout",
          "text": [
            "Epoch 1/5\n",
            "1875/1875 [==============================] - 4s 2ms/step - loss: 0.3022 - accuracy: 0.9143\n",
            "Epoch 2/5\n",
            "1875/1875 [==============================] - 3s 2ms/step - loss: 0.1435 - accuracy: 0.9588\n",
            "Epoch 3/5\n",
            "1875/1875 [==============================] - 3s 2ms/step - loss: 0.1051 - accuracy: 0.9693\n",
            "Epoch 4/5\n",
            "1875/1875 [==============================] - 3s 2ms/step - loss: 0.0835 - accuracy: 0.9747\n",
            "Epoch 5/5\n",
            "1875/1875 [==============================] - 3s 2ms/step - loss: 0.0696 - accuracy: 0.9790\n",
            "313/313 [==============================] - 0s 1ms/step - loss: 0.0864 - accuracy: 0.9747\n",
            "Test accuracy: 0.9746999740600586\n"
          ]
        }
      ]
    },
    {
      "cell_type": "code",
      "source": [
        "# Create a simple feedforward neural network model\n",
        "model = Sequential([\n",
        "    Flatten(input_shape=(16, 16)),\n",
        "#    Dense(128, activation='relu'),\n",
        "    Dense(64, activation='relu'),\n",
        "    Dense(10, activation='softmax')\n",
        "])\n",
        "\n",
        "# Compile the model\n",
        "model.compile(optimizer='adam',\n",
        "              loss='categorical_crossentropy',\n",
        "              metrics=['accuracy'])\n",
        "\n",
        "# Train the model\n",
        "#model.fit(X_train, y_train, epochs=5, batch_size=32, validation_split=0.2)\n",
        "model.fit(X_train_res16, y_train_ohe, epochs=5)\n",
        "\n",
        "# Evaluate the model on the test dataset\n",
        "test_loss2, test_accuracy2 = model.evaluate(X_test_res16, y_test_ohe)\n",
        "print(f\"Test accuracy: {test_accuracy2}\")"
      ],
      "metadata": {
        "colab": {
          "base_uri": "https://localhost:8080/"
        },
        "outputId": "26c8166e-d18b-4769-b2ea-31bbc5c4bf32",
        "id": "Q5jXVZt20e1m"
      },
      "execution_count": null,
      "outputs": [
        {
          "output_type": "stream",
          "name": "stdout",
          "text": [
            "Epoch 1/5\n",
            "1875/1875 [==============================] - 3s 1ms/step - loss: 0.3943 - accuracy: 0.8930\n",
            "Epoch 2/5\n",
            "1875/1875 [==============================] - 2s 1ms/step - loss: 0.1985 - accuracy: 0.9430\n",
            "Epoch 3/5\n",
            "1875/1875 [==============================] - 2s 1ms/step - loss: 0.1505 - accuracy: 0.9566\n",
            "Epoch 4/5\n",
            "1875/1875 [==============================] - 2s 1ms/step - loss: 0.1223 - accuracy: 0.9645\n",
            "Epoch 5/5\n",
            "1875/1875 [==============================] - 2s 1ms/step - loss: 0.1039 - accuracy: 0.9697\n",
            "313/313 [==============================] - 0s 1ms/step - loss: 0.1061 - accuracy: 0.9688\n",
            "Test accuracy: 0.9688000082969666\n"
          ]
        }
      ]
    },
    {
      "cell_type": "code",
      "source": [
        "import numpy as np\n",
        "import tensorflow as tf\n",
        "from tensorflow.keras.datasets import mnist\n",
        "from sklearn.cluster import KMeans\n",
        "from sklearn.metrics import accuracy_score\n",
        "\n",
        "# Load the MNIST dataset\n",
        "(x_train, y_train), (x_test, y_test) = mnist.load_data()\n",
        "\n",
        "# Flatten the images\n",
        "x_train = x_train.reshape(-1, 28 * 28)\n",
        "x_test = x_test.reshape(-1, 28 * 28)\n",
        "\n",
        "# Number of clusters (fuzzy sets)\n",
        "num_clusters = 10\n",
        "\n",
        "# Perform k-means clustering to generate fuzzy sets\n",
        "kmeans = KMeans(n_clusters=num_clusters, random_state=0)\n",
        "kmeans.fit(x_train)\n",
        "\n",
        "# Generate fuzzy membership values based on distance to cluster centers\n",
        "fuzzy_memberships = kmeans.transform(x_train)\n",
        "\n",
        "# Create fuzzy rules\n",
        "def create_fuzzy_rules(memberships):\n",
        "    rules = []\n",
        "    for sample in memberships:\n",
        "        rule = np.argmax(sample)  # Select the cluster with the highest membership\n",
        "        rules.append(rule)\n",
        "    return np.array(rules)\n",
        "\n",
        "fuzzy_rules = create_fuzzy_rules(fuzzy_memberships)\n",
        "\n",
        "# Make predictions using fuzzy rules\n",
        "def fuzzy_predict(fuzzy_rules, memberships):\n",
        "    predictions = []\n",
        "    for i in range(len(fuzzy_rules)):\n",
        "        predictions.append(np.argmax(memberships[i] == fuzzy_rules[i]))\n",
        "    return np.array(predictions)\n",
        "\n",
        "# Apply fuzzy logic classifier to the test data\n",
        "test_fuzzy_memberships = kmeans.transform(x_test)\n",
        "y_pred = fuzzy_predict(fuzzy_rules, test_fuzzy_memberships)\n",
        "\n",
        "# Calculate accuracy\n",
        "accuracy = accuracy_score(y_test, y_pred)\n",
        "print(f\"Accuracy: {accuracy * 100:.2f}%\")"
      ],
      "metadata": {
        "id": "0Ov4FDAz30Gp",
        "colab": {
          "base_uri": "https://localhost:8080/",
          "height": 421
        },
        "outputId": "3df9b398-1a9f-4de4-e730-1f84849e80f1"
      },
      "execution_count": null,
      "outputs": [
        {
          "output_type": "stream",
          "name": "stderr",
          "text": [
            "/usr/local/lib/python3.10/dist-packages/sklearn/cluster/_kmeans.py:870: FutureWarning: The default value of `n_init` will change from 10 to 'auto' in 1.4. Set the value of `n_init` explicitly to suppress the warning\n",
            "  warnings.warn(\n"
          ]
        },
        {
          "output_type": "error",
          "ename": "IndexError",
          "evalue": "ignored",
          "traceback": [
            "\u001b[0;31m---------------------------------------------------------------------------\u001b[0m",
            "\u001b[0;31mIndexError\u001b[0m                                Traceback (most recent call last)",
            "\u001b[0;32m<ipython-input-4-a4dc5489f24b>\u001b[0m in \u001b[0;36m<cell line: 43>\u001b[0;34m()\u001b[0m\n\u001b[1;32m     41\u001b[0m \u001b[0;31m# Apply fuzzy logic classifier to the test data\u001b[0m\u001b[0;34m\u001b[0m\u001b[0;34m\u001b[0m\u001b[0m\n\u001b[1;32m     42\u001b[0m \u001b[0mtest_fuzzy_memberships\u001b[0m \u001b[0;34m=\u001b[0m \u001b[0mkmeans\u001b[0m\u001b[0;34m.\u001b[0m\u001b[0mtransform\u001b[0m\u001b[0;34m(\u001b[0m\u001b[0mx_test\u001b[0m\u001b[0;34m)\u001b[0m\u001b[0;34m\u001b[0m\u001b[0;34m\u001b[0m\u001b[0m\n\u001b[0;32m---> 43\u001b[0;31m \u001b[0my_pred\u001b[0m \u001b[0;34m=\u001b[0m \u001b[0mfuzzy_predict\u001b[0m\u001b[0;34m(\u001b[0m\u001b[0mfuzzy_rules\u001b[0m\u001b[0;34m,\u001b[0m \u001b[0mtest_fuzzy_memberships\u001b[0m\u001b[0;34m)\u001b[0m\u001b[0;34m\u001b[0m\u001b[0;34m\u001b[0m\u001b[0m\n\u001b[0m\u001b[1;32m     44\u001b[0m \u001b[0;34m\u001b[0m\u001b[0m\n\u001b[1;32m     45\u001b[0m \u001b[0;31m# Calculate accuracy\u001b[0m\u001b[0;34m\u001b[0m\u001b[0;34m\u001b[0m\u001b[0m\n",
            "\u001b[0;32m<ipython-input-4-a4dc5489f24b>\u001b[0m in \u001b[0;36mfuzzy_predict\u001b[0;34m(fuzzy_rules, memberships)\u001b[0m\n\u001b[1;32m     36\u001b[0m     \u001b[0mpredictions\u001b[0m \u001b[0;34m=\u001b[0m \u001b[0;34m[\u001b[0m\u001b[0;34m]\u001b[0m\u001b[0;34m\u001b[0m\u001b[0;34m\u001b[0m\u001b[0m\n\u001b[1;32m     37\u001b[0m     \u001b[0;32mfor\u001b[0m \u001b[0mi\u001b[0m \u001b[0;32min\u001b[0m \u001b[0mrange\u001b[0m\u001b[0;34m(\u001b[0m\u001b[0mlen\u001b[0m\u001b[0;34m(\u001b[0m\u001b[0mfuzzy_rules\u001b[0m\u001b[0;34m)\u001b[0m\u001b[0;34m)\u001b[0m\u001b[0;34m:\u001b[0m\u001b[0;34m\u001b[0m\u001b[0;34m\u001b[0m\u001b[0m\n\u001b[0;32m---> 38\u001b[0;31m         \u001b[0mpredictions\u001b[0m\u001b[0;34m.\u001b[0m\u001b[0mappend\u001b[0m\u001b[0;34m(\u001b[0m\u001b[0mnp\u001b[0m\u001b[0;34m.\u001b[0m\u001b[0margmax\u001b[0m\u001b[0;34m(\u001b[0m\u001b[0mmemberships\u001b[0m\u001b[0;34m[\u001b[0m\u001b[0mi\u001b[0m\u001b[0;34m]\u001b[0m \u001b[0;34m==\u001b[0m \u001b[0mfuzzy_rules\u001b[0m\u001b[0;34m[\u001b[0m\u001b[0mi\u001b[0m\u001b[0;34m]\u001b[0m\u001b[0;34m)\u001b[0m\u001b[0;34m)\u001b[0m\u001b[0;34m\u001b[0m\u001b[0;34m\u001b[0m\u001b[0m\n\u001b[0m\u001b[1;32m     39\u001b[0m     \u001b[0;32mreturn\u001b[0m \u001b[0mnp\u001b[0m\u001b[0;34m.\u001b[0m\u001b[0marray\u001b[0m\u001b[0;34m(\u001b[0m\u001b[0mpredictions\u001b[0m\u001b[0;34m)\u001b[0m\u001b[0;34m\u001b[0m\u001b[0;34m\u001b[0m\u001b[0m\n\u001b[1;32m     40\u001b[0m \u001b[0;34m\u001b[0m\u001b[0m\n",
            "\u001b[0;31mIndexError\u001b[0m: index 10000 is out of bounds for axis 0 with size 10000"
          ]
        }
      ]
    },
    {
      "cell_type": "code",
      "source": [
        "#Naomy\n",
        "#KNN\n",
        "import numpy as np\n",
        "from sklearn.datasets import load_digits\n",
        "from sklearn.model_selection import train_test_split\n",
        "from sklearn.metrics import accuracy_score\n",
        "\n",
        "def knn_predict(X_train, y_train, X_test, k):\n",
        "    num_test = X_test.shape[0]\n",
        "    y_pred = np.zeros(num_test, dtype=int)\n",
        "\n",
        "    for i in range(num_test):\n",
        "        distances = np.sqrt(np.sum((X_train - X_test[i])**2, axis=1))\n",
        "        nearest_indices = np.argsort(distances)[:k]\n",
        "        nearest_labels = y_train[nearest_indices]\n",
        "        y_pred[i] = np.argmax(np.bincount(nearest_labels))\n",
        "\n",
        "    return y_pred\n",
        "\n",
        "# Load the MNIST dataset\n",
        "digits = load_digits()\n",
        "\n",
        "# Split the dataset into training and testing sets\n",
        "X_train, X_test, y_train, y_test = train_test_split(digits.data, digits.target, test_size=0.2, random_state=42)\n",
        "\n",
        "# Make predictions using KNN\n",
        "k = 5  # Number of neighbors\n",
        "y_pred = knn_predict(X_train, y_train, X_test, k)\n",
        "\n",
        "# Calculate the accuracy of the KNN classifier\n",
        "accuracy = accuracy_score(y_test, y_pred)\n",
        "print(\"Test accuracy:\", accuracy)"
      ],
      "metadata": {
        "id": "0CBgN6WrZt9z",
        "colab": {
          "base_uri": "https://localhost:8080/"
        },
        "outputId": "fe426a2c-3d93-4194-a8e6-64ffc73a2029"
      },
      "execution_count": null,
      "outputs": [
        {
          "output_type": "stream",
          "name": "stdout",
          "text": [
            "Test accuracy: 0.9861111111111112\n"
          ]
        }
      ]
    }
  ]
}